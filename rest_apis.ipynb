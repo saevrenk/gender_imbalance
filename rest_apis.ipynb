{
 "cells": [
  {
   "cell_type": "markdown",
   "id": "0f04de20",
   "metadata": {},
   "source": [
    "Rest stands for Representational State Transfer (a set of architectural guidelines)\n",
    "* Stateless \n",
    "* Client-Server \n",
    "* Cacheable\n",
    "API stands for Application programming interface\n",
    "* Data is changing, APIs met the data-on-demand needs\n",
    "\n",
    "- Sites usually require access tokens. \n",
    "- Base URL: ex. https://api.github.com"
   ]
  },
  {
   "cell_type": "code",
   "execution_count": 3,
   "id": "e9fba692",
   "metadata": {},
   "outputs": [],
   "source": [
    "import requests\n",
    "import json\n",
    "from pprint import pp"
   ]
  },
  {
   "cell_type": "markdown",
   "id": "5e24be08",
   "metadata": {},
   "source": [
    "## GET Request"
   ]
  },
  {
   "cell_type": "code",
   "execution_count": 16,
   "id": "538875fc",
   "metadata": {},
   "outputs": [
    {
     "name": "stdout",
     "output_type": "stream",
     "text": [
      "{'userId': 1, 'id': 1, 'title': 'delectus aut autem', 'completed': False} 200\n"
     ]
    }
   ],
   "source": [
    "api_url = \"https://jsonplaceholder.typicode.com/todos/1\"\n",
    "response = requests.get(api_url)\n",
    "# can also use json module\n",
    "#json.loads(response.text)\n",
    "# .json() is a method for get request\n",
    "r = response.json()\n",
    "print(r, response.status_code)"
   ]
  },
  {
   "cell_type": "code",
   "execution_count": 17,
   "id": "b4cb2a12",
   "metadata": {},
   "outputs": [
    {
     "name": "stdout",
     "output_type": "stream",
     "text": [
      "{'Date': 'Wed, 04 Jan 2023 14:36:10 GMT', 'Content-Type': 'application/json; charset=utf-8', 'Transfer-Encoding': 'chunked', 'Connection': 'keep-alive', 'x-powered-by': 'Express', 'x-ratelimit-limit': '1000', 'x-ratelimit-remaining': '999', 'x-ratelimit-reset': '1637287449', 'vary': 'Origin, Accept-Encoding', 'access-control-allow-credentials': 'true', 'cache-control': 'max-age=43200', 'pragma': 'no-cache', 'expires': '-1', 'x-content-type-options': 'nosniff', 'etag': 'W/\"53-hfEnumeNh6YirfjyjaujcOPPT+s\"', 'via': '1.1 vegur', 'CF-Cache-Status': 'HIT', 'Age': '9283', 'Server-Timing': 'cf-q-config;dur=6.0000000416949e-06', 'Report-To': '{\"endpoints\":[{\"url\":\"https:\\\\/\\\\/a.nel.cloudflare.com\\\\/report\\\\/v3?s=cfJcVh6NG26Nqv6K0VEC3VUj3QPG4MPWedN%2B8P%2BCmFem%2B4YTBztRucvx4eREgfzGoj7cSLV1d%2Fta6BUvEE47Bh03x4yNqd4Ca5J75hNyyx8g1cskbPwzp1TuRt2p7eyBX57PceuIem55Q%2FxA9xoh\"}],\"group\":\"cf-nel\",\"max_age\":604800}', 'NEL': '{\"success_fraction\":0,\"report_to\":\"cf-nel\",\"max_age\":604800}', 'Server': 'cloudflare', 'CF-RAY': '7844b4757c3232c7-EWR', 'Content-Encoding': 'br', 'alt-svc': 'h3=\":443\"; ma=86400, h3-29=\":443\"; ma=86400'}\n"
     ]
    }
   ],
   "source": [
    "# additional information passed between the client and server\n",
    "print(response.headers)"
   ]
  },
  {
   "cell_type": "code",
   "execution_count": 18,
   "id": "4f1220b5",
   "metadata": {},
   "outputs": [
    {
     "data": {
      "text/plain": [
       "'{\"endpoints\":[{\"url\":\"https:\\\\/\\\\/a.nel.cloudflare.com\\\\/report\\\\/v3?s=cfJcVh6NG26Nqv6K0VEC3VUj3QPG4MPWedN%2B8P%2BCmFem%2B4YTBztRucvx4eREgfzGoj7cSLV1d%2Fta6BUvEE47Bh03x4yNqd4Ca5J75hNyyx8g1cskbPwzp1TuRt2p7eyBX57PceuIem55Q%2FxA9xoh\"}],\"group\":\"cf-nel\",\"max_age\":604800}'"
      ]
     },
     "execution_count": 18,
     "metadata": {},
     "output_type": "execute_result"
    }
   ],
   "source": [
    "response.headers[\"Report-To\"]"
   ]
  },
  {
   "cell_type": "markdown",
   "id": "7cbef005",
   "metadata": {},
   "source": [
    "## Post request"
   ]
  },
  {
   "cell_type": "code",
   "execution_count": 19,
   "id": "a35f625f",
   "metadata": {},
   "outputs": [
    {
     "data": {
      "text/plain": [
       "{'userId': 1, 'title': 'Buy milk', 'completed': False, 'id': 201}"
      ]
     },
     "execution_count": 19,
     "metadata": {},
     "output_type": "execute_result"
    }
   ],
   "source": [
    "api_url = \"https://jsonplaceholder.typicode.com/todos\"\n",
    "todo = {\"userId\": 1, \"title\": \"Buy milk\", \"completed\": False}\n",
    "response = requests.post(api_url, json=todo)\n",
    "response.json()"
   ]
  },
  {
   "cell_type": "code",
   "execution_count": 20,
   "id": "b7993117",
   "metadata": {},
   "outputs": [
    {
     "data": {
      "text/plain": [
       "{'Date': 'Wed, 04 Jan 2023 14:39:06 GMT', 'Content-Type': 'application/json; charset=utf-8', 'Content-Length': '75', 'Connection': 'keep-alive', 'X-Powered-By': 'Express', 'X-Ratelimit-Limit': '1000', 'X-Ratelimit-Remaining': '999', 'X-Ratelimit-Reset': '1672843164', 'Vary': 'Origin, X-HTTP-Method-Override, Accept-Encoding', 'Access-Control-Allow-Credentials': 'true', 'Cache-Control': 'no-cache', 'Pragma': 'no-cache', 'Expires': '-1', 'Access-Control-Expose-Headers': 'Location', 'Location': 'http://jsonplaceholder.typicode.com/todos/201', 'X-Content-Type-Options': 'nosniff', 'Etag': 'W/\"4b-93A2e8N5lr0mWyRbnkvyOhrJd0M\"', 'Via': '1.1 vegur', 'CF-Cache-Status': 'DYNAMIC', 'Server-Timing': 'cf-q-config;dur=5.9999999848515e-06', 'Report-To': '{\"endpoints\":[{\"url\":\"https:\\\\/\\\\/a.nel.cloudflare.com\\\\/report\\\\/v3?s=wJ8X6vlLE%2By5CkcpfZGSZnnuNfRNQidShVSaLxEPzxC3umnRvE%2FB%2Fdfrj%2Fj%2FdAVhm8gPQuczc68eHkiCO%2Fq7qts67Ab1ncRvoyJQEKZ4rNa0qSKd8iXM1CdnYXWOqxBmvrEXyBOBnbKQGWQncl9P\"}],\"group\":\"cf-nel\",\"max_age\":604800}', 'NEL': '{\"success_fraction\":0,\"report_to\":\"cf-nel\",\"max_age\":604800}', 'Server': 'cloudflare', 'CF-RAY': '7844b8c26c1c18a1-EWR', 'alt-svc': 'h3=\":443\"; ma=86400, h3-29=\":443\"; ma=86400'}"
      ]
     },
     "execution_count": 20,
     "metadata": {},
     "output_type": "execute_result"
    }
   ],
   "source": [
    "response.headers"
   ]
  },
  {
   "cell_type": "code",
   "execution_count": 21,
   "id": "4aea1c9e",
   "metadata": {},
   "outputs": [
    {
     "data": {
      "text/plain": [
       "{'userId': 1, 'title': 'Buy milk', 'completed': False, 'id': 201}"
      ]
     },
     "execution_count": 21,
     "metadata": {},
     "output_type": "execute_result"
    }
   ],
   "source": [
    "headers =  {\"Content-Type\":\"application/json\"}\n",
    "response = requests.post(api_url, data=json.dumps(todo), headers=headers)\n",
    "response.json()"
   ]
  },
  {
   "cell_type": "markdown",
   "id": "56843acd",
   "metadata": {},
   "source": [
    "## PUT Requests"
   ]
  },
  {
   "cell_type": "code",
   "execution_count": 22,
   "id": "01df5eb4",
   "metadata": {},
   "outputs": [
    {
     "data": {
      "text/plain": [
       "{'userId': 1,\n",
       " 'id': 10,\n",
       " 'title': 'illo est ratione doloremque quia maiores aut',\n",
       " 'completed': True}"
      ]
     },
     "execution_count": 22,
     "metadata": {},
     "output_type": "execute_result"
    }
   ],
   "source": [
    "api_url = \"https://jsonplaceholder.typicode.com/todos/10\"\n",
    "response = requests.get(api_url)\n",
    "response.json()"
   ]
  },
  {
   "cell_type": "code",
   "execution_count": 24,
   "id": "56042aa1",
   "metadata": {},
   "outputs": [
    {
     "data": {
      "text/plain": [
       "{'userId': 1, 'title': 'Wash car', 'completed': True, 'id': 10}"
      ]
     },
     "execution_count": 24,
     "metadata": {},
     "output_type": "execute_result"
    }
   ],
   "source": [
    "todo = {\"userId\": 1, \"title\": \"Wash car\", \"completed\": True}\n",
    "response = requests.put(api_url, json=todo)\n",
    "response.json()"
   ]
  },
  {
   "cell_type": "code",
   "execution_count": 27,
   "id": "57c7550e",
   "metadata": {},
   "outputs": [
    {
     "data": {
      "text/plain": [
       "['__attrs__',\n",
       " '__bool__',\n",
       " '__class__',\n",
       " '__delattr__',\n",
       " '__dict__',\n",
       " '__dir__',\n",
       " '__doc__',\n",
       " '__enter__',\n",
       " '__eq__',\n",
       " '__exit__',\n",
       " '__format__',\n",
       " '__ge__',\n",
       " '__getattribute__',\n",
       " '__getstate__',\n",
       " '__gt__',\n",
       " '__hash__',\n",
       " '__init__',\n",
       " '__init_subclass__',\n",
       " '__iter__',\n",
       " '__le__',\n",
       " '__lt__',\n",
       " '__module__',\n",
       " '__ne__',\n",
       " '__new__',\n",
       " '__nonzero__',\n",
       " '__reduce__',\n",
       " '__reduce_ex__',\n",
       " '__repr__',\n",
       " '__setattr__',\n",
       " '__setstate__',\n",
       " '__sizeof__',\n",
       " '__str__',\n",
       " '__subclasshook__',\n",
       " '__weakref__',\n",
       " '_content',\n",
       " '_content_consumed',\n",
       " '_next',\n",
       " 'apparent_encoding',\n",
       " 'close',\n",
       " 'connection',\n",
       " 'content',\n",
       " 'cookies',\n",
       " 'elapsed',\n",
       " 'encoding',\n",
       " 'headers',\n",
       " 'history',\n",
       " 'is_permanent_redirect',\n",
       " 'is_redirect',\n",
       " 'iter_content',\n",
       " 'iter_lines',\n",
       " 'json',\n",
       " 'links',\n",
       " 'next',\n",
       " 'ok',\n",
       " 'raise_for_status',\n",
       " 'raw',\n",
       " 'reason',\n",
       " 'request',\n",
       " 'status_code',\n",
       " 'text',\n",
       " 'url']"
      ]
     },
     "execution_count": 27,
     "metadata": {},
     "output_type": "execute_result"
    }
   ],
   "source": [
    "dir(response)"
   ]
  },
  {
   "cell_type": "markdown",
   "id": "282a117b",
   "metadata": {},
   "source": [
    "## PATCH request"
   ]
  },
  {
   "cell_type": "code",
   "execution_count": 36,
   "id": "34b82ac4",
   "metadata": {},
   "outputs": [
    {
     "data": {
      "text/plain": [
       "{'userId': 1, 'id': 10, 'title': 'Mow lawn', 'completed': True}"
      ]
     },
     "execution_count": 36,
     "metadata": {},
     "output_type": "execute_result"
    }
   ],
   "source": [
    "api_url = \"https://jsonplaceholder.typicode.com/todos/10\"\n",
    "todo = {\"title\": \"Mow lawn\"}\n",
    "response = requests.patch(api_url, json=todo)\n",
    "response.json()"
   ]
  },
  {
   "cell_type": "markdown",
   "id": "e2a9bf0d",
   "metadata": {},
   "source": [
    "## DELETE"
   ]
  },
  {
   "cell_type": "code",
   "execution_count": 37,
   "id": "a1a74108",
   "metadata": {},
   "outputs": [
    {
     "data": {
      "text/plain": [
       "{}"
      ]
     },
     "execution_count": 37,
     "metadata": {},
     "output_type": "execute_result"
    }
   ],
   "source": [
    "response = requests.delete(api_url)\n",
    "response.json()"
   ]
  },
  {
   "cell_type": "code",
   "execution_count": 43,
   "id": "4735c2d4",
   "metadata": {},
   "outputs": [
    {
     "data": {
      "text/plain": [
       "{'message': 'success',\n",
       " 'people': [{'name': 'Sergey Prokopyev', 'craft': 'ISS'},\n",
       "  {'name': 'Dmitry Petelin', 'craft': 'ISS'},\n",
       "  {'name': 'Frank Rubio', 'craft': 'ISS'},\n",
       "  {'name': 'Nicole Mann', 'craft': 'ISS'},\n",
       "  {'name': 'Josh Cassada', 'craft': 'ISS'},\n",
       "  {'name': 'Koichi Wakata', 'craft': 'ISS'},\n",
       "  {'name': 'Anna Kikina', 'craft': 'ISS'},\n",
       "  {'name': 'Fei Junlong', 'craft': 'Shenzhou 15'},\n",
       "  {'name': 'Deng Qingming', 'craft': 'Shenzhou 15'},\n",
       "  {'name': 'Zhang Lu', 'craft': 'Shenzhou 15'}],\n",
       " 'number': 10}"
      ]
     },
     "execution_count": 43,
     "metadata": {},
     "output_type": "execute_result"
    }
   ],
   "source": [
    "# example\n",
    "response = requests.get(\"http://api.open-notify.org/astros.json\")\n",
    "response.json()"
   ]
  },
  {
   "cell_type": "code",
   "execution_count": 52,
   "id": "ea724f58",
   "metadata": {},
   "outputs": [],
   "source": [
    "lst = response.json()['people']"
   ]
  },
  {
   "cell_type": "code",
   "execution_count": 53,
   "id": "47d0ca3b",
   "metadata": {},
   "outputs": [
    {
     "name": "stdout",
     "output_type": "stream",
     "text": [
      "Sergey Prokopyev ISS\n",
      "Dmitry Petelin ISS\n",
      "Frank Rubio ISS\n",
      "Nicole Mann ISS\n",
      "Josh Cassada ISS\n",
      "Koichi Wakata ISS\n",
      "Anna Kikina ISS\n",
      "Fei Junlong Shenzhou 15\n",
      "Deng Qingming Shenzhou 15\n",
      "Zhang Lu Shenzhou 15\n"
     ]
    }
   ],
   "source": [
    "for namedict in lst:\n",
    "    print(namedict['name'], namedict['craft'])"
   ]
  },
  {
   "cell_type": "code",
   "execution_count": 54,
   "id": "c7d3f5c7",
   "metadata": {},
   "outputs": [],
   "source": [
    "\n",
    "newdict = {}\n",
    "for namedict in lst:\n",
    "    newdict[namedict['name']] = namedict['craft']"
   ]
  },
  {
   "cell_type": "code",
   "execution_count": 71,
   "id": "b8f14484",
   "metadata": {},
   "outputs": [
    {
     "data": {
      "text/plain": [
       "[('Anna Kikina', 'ISS'),\n",
       " ('Deng Qingming', 'Shenzhou 15'),\n",
       " ('Dmitry Petelin', 'ISS'),\n",
       " ('Fei Junlong', 'Shenzhou 15'),\n",
       " ('Frank Rubio', 'ISS'),\n",
       " ('Josh Cassada', 'ISS'),\n",
       " ('Koichi Wakata', 'ISS'),\n",
       " ('Nicole Mann', 'ISS'),\n",
       " ('Sergey Prokopyev', 'ISS'),\n",
       " ('Zhang Lu', 'Shenzhou 15')]"
      ]
     },
     "execution_count": 71,
     "metadata": {},
     "output_type": "execute_result"
    }
   ],
   "source": [
    "# sort by keys\n",
    "sorted(newdict.items())"
   ]
  },
  {
   "cell_type": "code",
   "execution_count": 73,
   "id": "27a5aa0c",
   "metadata": {},
   "outputs": [],
   "source": [
    "# sort by value\n",
    "sorted_valdict = dict(sorted(newdict.items(), key = lambda x: x[1]))"
   ]
  },
  {
   "cell_type": "code",
   "execution_count": 74,
   "id": "0ce8f51f",
   "metadata": {},
   "outputs": [
    {
     "data": {
      "text/plain": [
       "{'Sergey Prokopyev': 'ISS',\n",
       " 'Dmitry Petelin': 'ISS',\n",
       " 'Frank Rubio': 'ISS',\n",
       " 'Nicole Mann': 'ISS',\n",
       " 'Josh Cassada': 'ISS',\n",
       " 'Koichi Wakata': 'ISS',\n",
       " 'Anna Kikina': 'ISS',\n",
       " 'Fei Junlong': 'Shenzhou 15',\n",
       " 'Deng Qingming': 'Shenzhou 15',\n",
       " 'Zhang Lu': 'Shenzhou 15'}"
      ]
     },
     "execution_count": 74,
     "metadata": {},
     "output_type": "execute_result"
    }
   ],
   "source": [
    "sorted_valdict"
   ]
  },
  {
   "cell_type": "code",
   "execution_count": 72,
   "id": "b7a21f4e",
   "metadata": {},
   "outputs": [
    {
     "data": {
      "text/plain": [
       "dict_items([('Sergey Prokopyev', 'ISS'), ('Dmitry Petelin', 'ISS'), ('Frank Rubio', 'ISS'), ('Nicole Mann', 'ISS'), ('Josh Cassada', 'ISS'), ('Koichi Wakata', 'ISS'), ('Anna Kikina', 'ISS'), ('Fei Junlong', 'Shenzhou 15'), ('Deng Qingming', 'Shenzhou 15'), ('Zhang Lu', 'Shenzhou 15')])"
      ]
     },
     "execution_count": 72,
     "metadata": {},
     "output_type": "execute_result"
    }
   ],
   "source": [
    "newdict.items()"
   ]
  },
  {
   "cell_type": "code",
   "execution_count": 76,
   "id": "92fff53c",
   "metadata": {},
   "outputs": [],
   "source": [
    "baseurl = 'https://rickandmortyapi.com/api/'\n",
    "endpoint = 'character'"
   ]
  },
  {
   "cell_type": "code",
   "execution_count": 115,
   "id": "10374d0d",
   "metadata": {},
   "outputs": [
    {
     "name": "stdout",
     "output_type": "stream",
     "text": [
      "https://rickandmortyapi.com/api/character/?page=1\n",
      "1\n",
      "https://rickandmortyapi.com/api/character/?page=1\n",
      "2\n",
      "https://rickandmortyapi.com/api/character/?page=2\n",
      "40\n"
     ]
    }
   ],
   "source": [
    "baseurl = 'https://rickandmortyapi.com/api/'\n",
    "endpoint = 'character/'\n",
    "def main_request(baseurl, endpoint, x):\n",
    "    print(baseurl + endpoint + f'?page={x}')\n",
    "    response = requests.get(baseurl + endpoint + f'?page={x}')\n",
    "    return response.json()\n",
    "\n",
    "def get_pages(response):\n",
    "    return response['info']['pages']\n",
    "\n",
    "def parse_json(response):\n",
    "    charlist = []\n",
    "    for item in response['results']:       \n",
    "        char = {\n",
    "            'name': item['name'],\n",
    "            'no_ep': len(item['episode']),\n",
    "        }\n",
    "        charlist.append(char)\n",
    "    return charlist\n",
    "\n",
    "mainlist = []\n",
    "data = main_request(baseurl, endpoint, 1)\n",
    "for x in range(1, 3):#get_pages(data)+1):\n",
    "    print(x)\n",
    "    mainlist.extend(parse_json(main_request(baseurl, endpoint, x)))\n",
    "\n",
    "print(len(mainlist))\n"
   ]
  },
  {
   "cell_type": "code",
   "execution_count": 134,
   "id": "c657429a",
   "metadata": {},
   "outputs": [],
   "source": [
    "df = pd.DataFrame(mainlist)"
   ]
  },
  {
   "cell_type": "code",
   "execution_count": 135,
   "id": "712eb5da",
   "metadata": {},
   "outputs": [
    {
     "data": {
      "text/html": [
       "<div>\n",
       "<style scoped>\n",
       "    .dataframe tbody tr th:only-of-type {\n",
       "        vertical-align: middle;\n",
       "    }\n",
       "\n",
       "    .dataframe tbody tr th {\n",
       "        vertical-align: top;\n",
       "    }\n",
       "\n",
       "    .dataframe thead th {\n",
       "        text-align: right;\n",
       "    }\n",
       "</style>\n",
       "<table border=\"1\" class=\"dataframe\">\n",
       "  <thead>\n",
       "    <tr style=\"text-align: right;\">\n",
       "      <th></th>\n",
       "      <th>name</th>\n",
       "      <th>no_ep</th>\n",
       "    </tr>\n",
       "  </thead>\n",
       "  <tbody>\n",
       "    <tr>\n",
       "      <th>0</th>\n",
       "      <td>Rick Sanchez</td>\n",
       "      <td>51</td>\n",
       "    </tr>\n",
       "    <tr>\n",
       "      <th>1</th>\n",
       "      <td>Morty Smith</td>\n",
       "      <td>51</td>\n",
       "    </tr>\n",
       "    <tr>\n",
       "      <th>2</th>\n",
       "      <td>Summer Smith</td>\n",
       "      <td>42</td>\n",
       "    </tr>\n",
       "    <tr>\n",
       "      <th>3</th>\n",
       "      <td>Beth Smith</td>\n",
       "      <td>42</td>\n",
       "    </tr>\n",
       "    <tr>\n",
       "      <th>4</th>\n",
       "      <td>Jerry Smith</td>\n",
       "      <td>39</td>\n",
       "    </tr>\n",
       "    <tr>\n",
       "      <th>5</th>\n",
       "      <td>Abadango Cluster Princess</td>\n",
       "      <td>1</td>\n",
       "    </tr>\n",
       "    <tr>\n",
       "      <th>6</th>\n",
       "      <td>Abradolf Lincler</td>\n",
       "      <td>2</td>\n",
       "    </tr>\n",
       "    <tr>\n",
       "      <th>7</th>\n",
       "      <td>Adjudicator Rick</td>\n",
       "      <td>1</td>\n",
       "    </tr>\n",
       "    <tr>\n",
       "      <th>8</th>\n",
       "      <td>Agency Director</td>\n",
       "      <td>1</td>\n",
       "    </tr>\n",
       "    <tr>\n",
       "      <th>9</th>\n",
       "      <td>Alan Rails</td>\n",
       "      <td>1</td>\n",
       "    </tr>\n",
       "    <tr>\n",
       "      <th>10</th>\n",
       "      <td>Albert Einstein</td>\n",
       "      <td>1</td>\n",
       "    </tr>\n",
       "    <tr>\n",
       "      <th>11</th>\n",
       "      <td>Alexander</td>\n",
       "      <td>1</td>\n",
       "    </tr>\n",
       "    <tr>\n",
       "      <th>12</th>\n",
       "      <td>Alien Googah</td>\n",
       "      <td>1</td>\n",
       "    </tr>\n",
       "    <tr>\n",
       "      <th>13</th>\n",
       "      <td>Alien Morty</td>\n",
       "      <td>1</td>\n",
       "    </tr>\n",
       "    <tr>\n",
       "      <th>14</th>\n",
       "      <td>Alien Rick</td>\n",
       "      <td>1</td>\n",
       "    </tr>\n",
       "    <tr>\n",
       "      <th>15</th>\n",
       "      <td>Amish Cyborg</td>\n",
       "      <td>1</td>\n",
       "    </tr>\n",
       "    <tr>\n",
       "      <th>16</th>\n",
       "      <td>Annie</td>\n",
       "      <td>1</td>\n",
       "    </tr>\n",
       "    <tr>\n",
       "      <th>17</th>\n",
       "      <td>Antenna Morty</td>\n",
       "      <td>2</td>\n",
       "    </tr>\n",
       "    <tr>\n",
       "      <th>18</th>\n",
       "      <td>Antenna Rick</td>\n",
       "      <td>1</td>\n",
       "    </tr>\n",
       "    <tr>\n",
       "      <th>19</th>\n",
       "      <td>Ants in my Eyes Johnson</td>\n",
       "      <td>1</td>\n",
       "    </tr>\n",
       "    <tr>\n",
       "      <th>20</th>\n",
       "      <td>Aqua Morty</td>\n",
       "      <td>2</td>\n",
       "    </tr>\n",
       "    <tr>\n",
       "      <th>21</th>\n",
       "      <td>Aqua Rick</td>\n",
       "      <td>3</td>\n",
       "    </tr>\n",
       "    <tr>\n",
       "      <th>22</th>\n",
       "      <td>Arcade Alien</td>\n",
       "      <td>5</td>\n",
       "    </tr>\n",
       "    <tr>\n",
       "      <th>23</th>\n",
       "      <td>Armagheadon</td>\n",
       "      <td>1</td>\n",
       "    </tr>\n",
       "    <tr>\n",
       "      <th>24</th>\n",
       "      <td>Armothy</td>\n",
       "      <td>1</td>\n",
       "    </tr>\n",
       "    <tr>\n",
       "      <th>25</th>\n",
       "      <td>Arthricia</td>\n",
       "      <td>1</td>\n",
       "    </tr>\n",
       "    <tr>\n",
       "      <th>26</th>\n",
       "      <td>Artist Morty</td>\n",
       "      <td>2</td>\n",
       "    </tr>\n",
       "    <tr>\n",
       "      <th>27</th>\n",
       "      <td>Attila Starwar</td>\n",
       "      <td>3</td>\n",
       "    </tr>\n",
       "    <tr>\n",
       "      <th>28</th>\n",
       "      <td>Baby Legs</td>\n",
       "      <td>1</td>\n",
       "    </tr>\n",
       "    <tr>\n",
       "      <th>29</th>\n",
       "      <td>Baby Poopybutthole</td>\n",
       "      <td>1</td>\n",
       "    </tr>\n",
       "    <tr>\n",
       "      <th>30</th>\n",
       "      <td>Baby Wizard</td>\n",
       "      <td>1</td>\n",
       "    </tr>\n",
       "    <tr>\n",
       "      <th>31</th>\n",
       "      <td>Bearded Lady</td>\n",
       "      <td>1</td>\n",
       "    </tr>\n",
       "    <tr>\n",
       "      <th>32</th>\n",
       "      <td>Beebo</td>\n",
       "      <td>1</td>\n",
       "    </tr>\n",
       "    <tr>\n",
       "      <th>33</th>\n",
       "      <td>Benjamin</td>\n",
       "      <td>3</td>\n",
       "    </tr>\n",
       "    <tr>\n",
       "      <th>34</th>\n",
       "      <td>Bepisian</td>\n",
       "      <td>4</td>\n",
       "    </tr>\n",
       "    <tr>\n",
       "      <th>35</th>\n",
       "      <td>Beta-Seven</td>\n",
       "      <td>1</td>\n",
       "    </tr>\n",
       "    <tr>\n",
       "      <th>36</th>\n",
       "      <td>Beth Sanchez</td>\n",
       "      <td>1</td>\n",
       "    </tr>\n",
       "    <tr>\n",
       "      <th>37</th>\n",
       "      <td>Beth Smith</td>\n",
       "      <td>8</td>\n",
       "    </tr>\n",
       "    <tr>\n",
       "      <th>38</th>\n",
       "      <td>Beth Smith</td>\n",
       "      <td>1</td>\n",
       "    </tr>\n",
       "    <tr>\n",
       "      <th>39</th>\n",
       "      <td>Beth's Mytholog</td>\n",
       "      <td>1</td>\n",
       "    </tr>\n",
       "  </tbody>\n",
       "</table>\n",
       "</div>"
      ],
      "text/plain": [
       "                         name  no_ep\n",
       "0                Rick Sanchez     51\n",
       "1                 Morty Smith     51\n",
       "2                Summer Smith     42\n",
       "3                  Beth Smith     42\n",
       "4                 Jerry Smith     39\n",
       "5   Abadango Cluster Princess      1\n",
       "6            Abradolf Lincler      2\n",
       "7            Adjudicator Rick      1\n",
       "8             Agency Director      1\n",
       "9                  Alan Rails      1\n",
       "10            Albert Einstein      1\n",
       "11                  Alexander      1\n",
       "12               Alien Googah      1\n",
       "13                Alien Morty      1\n",
       "14                 Alien Rick      1\n",
       "15               Amish Cyborg      1\n",
       "16                      Annie      1\n",
       "17              Antenna Morty      2\n",
       "18               Antenna Rick      1\n",
       "19    Ants in my Eyes Johnson      1\n",
       "20                 Aqua Morty      2\n",
       "21                  Aqua Rick      3\n",
       "22               Arcade Alien      5\n",
       "23                Armagheadon      1\n",
       "24                    Armothy      1\n",
       "25                  Arthricia      1\n",
       "26               Artist Morty      2\n",
       "27             Attila Starwar      3\n",
       "28                  Baby Legs      1\n",
       "29         Baby Poopybutthole      1\n",
       "30                Baby Wizard      1\n",
       "31               Bearded Lady      1\n",
       "32                      Beebo      1\n",
       "33                   Benjamin      3\n",
       "34                   Bepisian      4\n",
       "35                 Beta-Seven      1\n",
       "36               Beth Sanchez      1\n",
       "37                 Beth Smith      8\n",
       "38                 Beth Smith      1\n",
       "39            Beth's Mytholog      1"
      ]
     },
     "execution_count": 135,
     "metadata": {},
     "output_type": "execute_result"
    }
   ],
   "source": [
    "df"
   ]
  },
  {
   "cell_type": "code",
   "execution_count": 110,
   "id": "03aba67d",
   "metadata": {},
   "outputs": [
    {
     "name": "stdout",
     "output_type": "stream",
     "text": [
      "           name  no_ep\n",
      "0  Rick Sanchez     51\n",
      "1   Morty Smith     51\n",
      "2  Summer Smith     42\n",
      "3    Beth Smith     42\n",
      "4   Jerry Smith     39              name  no_ep\n",
      "821   Young Jerry      1\n",
      "822    Young Beth      1\n",
      "823    Young Beth      1\n",
      "824   Young Jerry      1\n",
      "825  Butter Robot      1\n"
     ]
    }
   ],
   "source": [
    "print(df.head(),df.tail())"
   ]
  },
  {
   "cell_type": "code",
   "execution_count": 94,
   "id": "d1f44fae",
   "metadata": {},
   "outputs": [
    {
     "name": "stdout",
     "output_type": "stream",
     "text": [
      "Rick Sanchez\n",
      "42\n",
      "[{'name': 'Ants in my Eyes Johnson', 'no_ep': 1}]\n"
     ]
    }
   ],
   "source": [
    "data = main_request(baseurl, endpoint)\n",
    "print(data['results'][0]['name'])\n",
    "print(get_pages(data))\n",
    "print(parse_json(data))"
   ]
  },
  {
   "cell_type": "code",
   "execution_count": 83,
   "id": "9dd8105e",
   "metadata": {},
   "outputs": [
    {
     "name": "stdout",
     "output_type": "stream",
     "text": [
      "['https://rickandmortyapi.com/api/episode/1', 'https://rickandmortyapi.com/api/episode/2', 'https://rickandmortyapi.com/api/episode/3', 'https://rickandmortyapi.com/api/episode/4', 'https://rickandmortyapi.com/api/episode/5', 'https://rickandmortyapi.com/api/episode/6', 'https://rickandmortyapi.com/api/episode/7', 'https://rickandmortyapi.com/api/episode/8', 'https://rickandmortyapi.com/api/episode/9', 'https://rickandmortyapi.com/api/episode/10', 'https://rickandmortyapi.com/api/episode/11', 'https://rickandmortyapi.com/api/episode/12', 'https://rickandmortyapi.com/api/episode/13', 'https://rickandmortyapi.com/api/episode/14', 'https://rickandmortyapi.com/api/episode/15', 'https://rickandmortyapi.com/api/episode/16', 'https://rickandmortyapi.com/api/episode/17', 'https://rickandmortyapi.com/api/episode/18', 'https://rickandmortyapi.com/api/episode/19', 'https://rickandmortyapi.com/api/episode/20', 'https://rickandmortyapi.com/api/episode/21', 'https://rickandmortyapi.com/api/episode/22', 'https://rickandmortyapi.com/api/episode/23', 'https://rickandmortyapi.com/api/episode/24', 'https://rickandmortyapi.com/api/episode/25', 'https://rickandmortyapi.com/api/episode/26', 'https://rickandmortyapi.com/api/episode/27', 'https://rickandmortyapi.com/api/episode/28', 'https://rickandmortyapi.com/api/episode/29', 'https://rickandmortyapi.com/api/episode/30', 'https://rickandmortyapi.com/api/episode/31', 'https://rickandmortyapi.com/api/episode/32', 'https://rickandmortyapi.com/api/episode/33', 'https://rickandmortyapi.com/api/episode/34', 'https://rickandmortyapi.com/api/episode/35', 'https://rickandmortyapi.com/api/episode/36', 'https://rickandmortyapi.com/api/episode/37', 'https://rickandmortyapi.com/api/episode/38', 'https://rickandmortyapi.com/api/episode/39', 'https://rickandmortyapi.com/api/episode/40', 'https://rickandmortyapi.com/api/episode/41', 'https://rickandmortyapi.com/api/episode/42', 'https://rickandmortyapi.com/api/episode/43', 'https://rickandmortyapi.com/api/episode/44', 'https://rickandmortyapi.com/api/episode/45', 'https://rickandmortyapi.com/api/episode/46', 'https://rickandmortyapi.com/api/episode/47', 'https://rickandmortyapi.com/api/episode/48', 'https://rickandmortyapi.com/api/episode/49', 'https://rickandmortyapi.com/api/episode/50', 'https://rickandmortyapi.com/api/episode/51']\n"
     ]
    }
   ],
   "source": []
  },
  {
   "cell_type": "code",
   "execution_count": 113,
   "id": "dcc9e2b1",
   "metadata": {},
   "outputs": [],
   "source": [
    "from pprint import pp"
   ]
  },
  {
   "cell_type": "code",
   "execution_count": 114,
   "id": "7d3c75d1",
   "metadata": {},
   "outputs": [
    {
     "name": "stdout",
     "output_type": "stream",
     "text": [
      "[{'name': 'Rick Sanchez', 'no_ep': 51},\n",
      " {'name': 'Morty Smith', 'no_ep': 51},\n",
      " {'name': 'Summer Smith', 'no_ep': 42},\n",
      " {'name': 'Beth Smith', 'no_ep': 42},\n",
      " {'name': 'Jerry Smith', 'no_ep': 39},\n",
      " {'name': 'Abadango Cluster Princess', 'no_ep': 1},\n",
      " {'name': 'Abradolf Lincler', 'no_ep': 2},\n",
      " {'name': 'Adjudicator Rick', 'no_ep': 1},\n",
      " {'name': 'Agency Director', 'no_ep': 1},\n",
      " {'name': 'Alan Rails', 'no_ep': 1},\n",
      " {'name': 'Albert Einstein', 'no_ep': 1},\n",
      " {'name': 'Alexander', 'no_ep': 1},\n",
      " {'name': 'Alien Googah', 'no_ep': 1},\n",
      " {'name': 'Alien Morty', 'no_ep': 1},\n",
      " {'name': 'Alien Rick', 'no_ep': 1},\n",
      " {'name': 'Amish Cyborg', 'no_ep': 1},\n",
      " {'name': 'Annie', 'no_ep': 1},\n",
      " {'name': 'Antenna Morty', 'no_ep': 2},\n",
      " {'name': 'Antenna Rick', 'no_ep': 1},\n",
      " {'name': 'Ants in my Eyes Johnson', 'no_ep': 1},\n",
      " {'name': 'Aqua Morty', 'no_ep': 2},\n",
      " {'name': 'Aqua Rick', 'no_ep': 3},\n",
      " {'name': 'Arcade Alien', 'no_ep': 5},\n",
      " {'name': 'Armagheadon', 'no_ep': 1},\n",
      " {'name': 'Armothy', 'no_ep': 1},\n",
      " {'name': 'Arthricia', 'no_ep': 1},\n",
      " {'name': 'Artist Morty', 'no_ep': 2},\n",
      " {'name': 'Attila Starwar', 'no_ep': 3},\n",
      " {'name': 'Baby Legs', 'no_ep': 1},\n",
      " {'name': 'Baby Poopybutthole', 'no_ep': 1},\n",
      " {'name': 'Baby Wizard', 'no_ep': 1},\n",
      " {'name': 'Bearded Lady', 'no_ep': 1},\n",
      " {'name': 'Beebo', 'no_ep': 1},\n",
      " {'name': 'Benjamin', 'no_ep': 3},\n",
      " {'name': 'Bepisian', 'no_ep': 4},\n",
      " {'name': 'Beta-Seven', 'no_ep': 1},\n",
      " {'name': 'Beth Sanchez', 'no_ep': 1},\n",
      " {'name': 'Beth Smith', 'no_ep': 8},\n",
      " {'name': 'Beth Smith', 'no_ep': 1},\n",
      " {'name': \"Beth's Mytholog\", 'no_ep': 1}]\n"
     ]
    }
   ],
   "source": [
    "pp(mainlist)"
   ]
  },
  {
   "cell_type": "code",
   "execution_count": null,
   "id": "bd68e1f5",
   "metadata": {},
   "outputs": [],
   "source": []
  },
  {
   "cell_type": "code",
   "execution_count": 138,
   "id": "5b74f375",
   "metadata": {},
   "outputs": [
    {
     "name": "stdout",
     "output_type": "stream",
     "text": [
      "These are the major schema in the rick and morty API:\n",
      " dict_keys(['characters', 'locations', 'episodes'])\n"
     ]
    }
   ],
   "source": [
    "# I have an api, lets explore; I will start at the top and build dictionaries for each schema:\n",
    "baseurl = 'https://rickandmortyapi.com/api/'\n",
    "base_dict = requests.get(baseurl).json()\n",
    "print(f'These are the major schema in the rick and morty API:\\n {dict_primo.keys()}')"
   ]
  },
  {
   "cell_type": "code",
   "execution_count": 124,
   "id": "d8cb8419",
   "metadata": {},
   "outputs": [
    {
     "data": {
      "text/plain": [
       "'{\"characters\":\"https://rickandmortyapi.com/api/character\",\"locations\":\"https://rickandmortyapi.com/api/location\",\"episodes\":\"https://rickandmortyapi.com/api/episode\"}'"
      ]
     },
     "execution_count": 124,
     "metadata": {},
     "output_type": "execute_result"
    }
   ],
   "source": [
    "base_dict.text"
   ]
  },
  {
   "cell_type": "code",
   "execution_count": 163,
   "id": "fb3464af",
   "metadata": {},
   "outputs": [
    {
     "name": "stdout",
     "output_type": "stream",
     "text": [
      "Schema, Endpoint, Number of pages\n",
      "characters https://rickandmortyapi.com/api/character Number of pages: 42 Number of counts: 826\n",
      "locations https://rickandmortyapi.com/api/location Number of pages: 7 Number of counts: 126\n",
      "episodes https://rickandmortyapi.com/api/episode Number of pages: 3 Number of counts: 51\n"
     ]
    },
    {
     "data": {
      "text/plain": [
       "1"
      ]
     },
     "execution_count": 163,
     "metadata": {},
     "output_type": "execute_result"
    }
   ],
   "source": [
    "def get_info(response, info_bit):\n",
    "    return response['info'][info_bit]\n",
    "\n",
    "def explore_api(head):\n",
    "    \"\"\" Gets the page info for each schema in the \n",
    "    primary dictionary of the API\n",
    "    \n",
    "    - Accepts the primary dictionary\n",
    "    - prints the page numbers,  ... in the schemas \"\"\"\n",
    "    \n",
    "    print('Schema, Endpoint, Number of pages')\n",
    "    for schema, endpoint in head.items():\n",
    "        dict_schema = requests.get(endpoint).json()\n",
    "        print(schema, \n",
    "              endpoint, \n",
    "              f'Number of pages: {get_info(dict_schema,\"pages\")}',\n",
    "              f'Number of counts: {get_info(dict_schema,\"count\")}'\n",
    "             )\n",
    "    return 1\n",
    "\n",
    "explore_api(base_dict)"
   ]
  },
  {
   "cell_type": "code",
   "execution_count": 184,
   "id": "792bc79d",
   "metadata": {},
   "outputs": [],
   "source": [
    "def get_schema_allpages(endpoint, n):\n",
    "    dict_allpages = {}\n",
    "    results = []\n",
    "    for x in range(1, n+1):\n",
    "        response = requests.get(endpoint + f'?page={x}').json()\n",
    "        #dict_allpages.update(response)\n",
    "        if x == 1: dict_allpages['info'] = response['info']  \n",
    "        results.extend(response['results'])\n",
    "    \n",
    "    dict_allpages['results'] = results    \n",
    "    return dict_allpages\n",
    "\n",
    "def get_whole_dict(head):\n",
    "    dict_whole = {}\n",
    "    for schema, endpoint in head.items(): \n",
    "        #get the information for the schema\n",
    "        dict_schema = requests.get(endpoint).json()\n",
    "        number_pages = get_info(dict_schema,\"pages\")\n",
    "        \n",
    "        allpages = get_schema_allpages(endpoint, number_pages)        \n",
    "        dict_whole[schema] = allpages\n",
    "\n",
    "    return dict_whole\n",
    "\n",
    "big_dict = get_whole_dict(base_dict)"
   ]
  },
  {
   "cell_type": "code",
   "execution_count": 186,
   "id": "2e04e99a",
   "metadata": {},
   "outputs": [
    {
     "name": "stdout",
     "output_type": "stream",
     "text": [
      "dict_keys(['info', 'results'])\n"
     ]
    }
   ],
   "source": [
    "pp(big_dict['characters'].keys())"
   ]
  },
  {
   "cell_type": "code",
   "execution_count": 199,
   "id": "e1516eff",
   "metadata": {},
   "outputs": [],
   "source": [
    "assert len(big_dict['locations']['results']) == 126\n",
    "assert len(big_dict['characters']['results']) == 826\n",
    "assert len(big_dict['episodes']['results']) == 51"
   ]
  },
  {
   "cell_type": "code",
   "execution_count": 205,
   "id": "b8af3d4f",
   "metadata": {},
   "outputs": [
    {
     "name": "stdout",
     "output_type": "stream",
     "text": [
      "characters dict_keys(['info', 'results'])\n",
      "locations dict_keys(['info', 'results'])\n",
      "episodes dict_keys(['info', 'results'])\n"
     ]
    }
   ],
   "source": [
    "for schema, values in big_dict.items():\n",
    "    print(schema, values)"
   ]
  },
  {
   "cell_type": "markdown",
   "id": "5d1cb3bb",
   "metadata": {},
   "source": [
    "### A few objectives to fulfill:\n",
    "* Get names of all the characters, check for duplicates and investigate them.\n",
    "* What was the name of the episode with the highest number of characters?\n",
    "* Get all the locations and number of residents in each location\n",
    "* All the Location names starting with a specific letter chosen\n",
    "* How many genders and how many characters for each gender are there? \n",
    "* How is the gender distribution for each episode? "
   ]
  },
  {
   "cell_type": "markdown",
   "id": "bfc3b3d4",
   "metadata": {},
   "source": [
    "### Get names of all the characters"
   ]
  },
  {
   "cell_type": "code",
   "execution_count": 213,
   "id": "25a07e5c",
   "metadata": {},
   "outputs": [
    {
     "name": "stdout",
     "output_type": "stream",
     "text": [
      "There are character repetitions?!\n",
      "There are 826 characters, 757 unique characters\n"
     ]
    }
   ],
   "source": [
    "def get_item_from_results(mydict, schema, item):\n",
    "    schema_dict = mydict[schema]\n",
    "    # get the item from the list of dictionaries referenced as results \n",
    "    item_list = [result_dict[item] for result_dict in schema_dict['results']]\n",
    "    return item_list, set(item_list)\n",
    "\n",
    "namelist, unique_namelist = get_item_from_results(big_dict, schema='characters', item='name')\n",
    "if len(namelist) != len(unique_namelist): \n",
    "    print('There are character repetitions?!')\n",
    "    print(f'There are {len(namelist)} characters, {len(unique_namelist)} unique character names')"
   ]
  },
  {
   "cell_type": "code",
   "execution_count": 239,
   "id": "3efecc66",
   "metadata": {},
   "outputs": [
    {
     "name": "stdout",
     "output_type": "stream",
     "text": [
      "Rick Sanchez 4\n",
      "Morty Smith 4\n",
      "Summer Smith 4\n",
      "Beth Smith 4\n",
      "SEAL Team Rick 4\n",
      "Cirque du Soleil Zumanity Member 5\n",
      "Cenobite 5\n"
     ]
    }
   ],
   "source": [
    "from collections import Counter\n",
    "frequency = Counter(namelist)\n",
    "repeat_characters = []\n",
    "for name, freq in frequency.items():\n",
    "    if freq > 3: \n",
    "        print(name, freq)\n",
    "        repeat_characters.append(name)"
   ]
  },
  {
   "cell_type": "markdown",
   "id": "17f071a2",
   "metadata": {},
   "source": [
    "Let's look into the different versions of the same character to see what is going on.\n",
    "First we need to get the id numbers referring to the same name."
   ]
  },
  {
   "cell_type": "code",
   "execution_count": 228,
   "id": "23eb119d",
   "metadata": {},
   "outputs": [],
   "source": [
    "dfc = pd.DataFrame(big_dict['characters']['results'])"
   ]
  },
  {
   "cell_type": "code",
   "execution_count": 242,
   "id": "6f7e68b0",
   "metadata": {},
   "outputs": [
    {
     "data": {
      "text/plain": [
       "{'Rick Sanchez': [1, 290, 293, 631], 'Morty Smith': [2, 232, 234, 630], 'Summer Smith': [3, 338, 339, 629], 'Beth Smith': [4, 38, 39, 628], 'SEAL Team Rick': [463, 464, 465, 466], 'Cirque du Soleil Zumanity Member': [737, 738, 739, 740, 741], 'Cenobite': [744, 745, 746, 747, 748]}"
      ]
     },
     "execution_count": 242,
     "metadata": {},
     "output_type": "execute_result"
    }
   ],
   "source": [
    "repeats_dict = {name: [id for id in dfc[dfc['name'] == name].id] for name in repeat_characters}\n",
    "repeats_dict"
   ]
  },
  {
   "cell_type": "code",
   "execution_count": 291,
   "id": "9440dbb1",
   "metadata": {},
   "outputs": [
    {
     "name": "stdout",
     "output_type": "stream",
     "text": [
      "Name: SEAL Team Rick, Status: Dead\n",
      "Location: Citadel of Ricks\n"
     ]
    },
    {
     "data": {
      "image/jpeg": "[encoded data removed]",
      "text/plain": [
       "<IPython.core.display.Image object>"
      ]
     },
     "metadata": {},
     "output_type": "display_data"
    },
    {
     "name": "stdout",
     "output_type": "stream",
     "text": [
      "Name: SEAL Team Rick, Status: Dead\n",
      "Location: Citadel of Ricks\n"
     ]
    },
    {
     "data": {
      "image/jpeg": "[encoded data removed]",
      "text/plain": [
       "<IPython.core.display.Image object>"
      ]
     },
     "metadata": {},
     "output_type": "display_data"
    },
    {
     "name": "stdout",
     "output_type": "stream",
     "text": [
      "Name: SEAL Team Rick, Status: Dead\n",
      "Location: Citadel of Ricks\n"
     ]
    },
    {
     "data": {
      "image/jpeg": "[encoded data removed]",
      "text/plain": [
       "<IPython.core.display.Image object>"
      ]
     },
     "metadata": {},
     "output_type": "display_data"
    },
    {
     "name": "stdout",
     "output_type": "stream",
     "text": [
      "Name: SEAL Team Rick, Status: Dead\n",
      "Location: Citadel of Ricks\n"
     ]
    },
    {
     "data": {
      "image/jpeg": "[encoded data removed]",
      "text/plain": [
       "<IPython.core.display.Image object>"
      ]
     },
     "metadata": {},
     "output_type": "display_data"
    }
   ],
   "source": [
    "from IPython.display import Image\n",
    "def show_images(name):\n",
    "    ids = repeats_dict[name]\n",
    "    status = dfc[dfc['name'] == name].status\n",
    "    loc= dfc[dfc['name'] == name].location\n",
    "    \n",
    "    listOfImageNames = [f'https://rickandmortyapi.com/api/character/avatar/{id}.jpeg' \n",
    "                        for id in ids ]\n",
    "\n",
    "    for stat, imageName, loc in zip(status, listOfImageNames, loc):\n",
    "        print(f'Name: {name}, Status: {stat}\\nLocation: {loc[\"name\"]}')\n",
    "        display(Image(imageName))\n",
    "\n",
    "show_images('SEAL Team Rick')"
   ]
  },
  {
   "cell_type": "markdown",
   "id": "d8392b10",
   "metadata": {},
   "source": [
    "### What was the name of the episode with the highest number of characters?"
   ]
  },
  {
   "cell_type": "code",
   "execution_count": 298,
   "id": "5de52f0f",
   "metadata": {},
   "outputs": [],
   "source": [
    "lst_episodes = big_dict['episodes']['results']"
   ]
  },
  {
   "cell_type": "code",
   "execution_count": 310,
   "id": "8563589c",
   "metadata": {},
   "outputs": [
    {
     "name": "stdout",
     "output_type": "stream",
     "text": [
      "28 The Ricklantis Mixup S03E07\n"
     ]
    }
   ],
   "source": [
    "max_chars = max([len(epi['characters']) for epi in lst_episodes])\n",
    "for epi in lst_episodes:\n",
    "    if len(epi['characters']) == max_chars:\n",
    "        print(epi['id'],epi['name'], epi['episode'])"
   ]
  },
  {
   "cell_type": "markdown",
   "id": "87a9c2c8",
   "metadata": {},
   "source": [
    "### Get all the locations and number of residents in each location, sort top 10 population descending"
   ]
  },
  {
   "cell_type": "code",
   "execution_count": 314,
   "id": "2510e7b3",
   "metadata": {},
   "outputs": [],
   "source": [
    "lst_locations = big_dict['locations']['results']"
   ]
  },
  {
   "cell_type": "code",
   "execution_count": 316,
   "id": "00239af5",
   "metadata": {},
   "outputs": [],
   "source": [
    "dict_population = {loc['name']:len(loc['residents']) for loc in lst_locations}"
   ]
  },
  {
   "cell_type": "code",
   "execution_count": 322,
   "id": "3c0975c0",
   "metadata": {},
   "outputs": [
    {
     "data": {
      "text/plain": [
       "[('Earth (Replacement Dimension)', 230), ('Citadel of Ricks', 101), ('Interdimensional Cable', 62), ('Earth (C-137)', 27), ('Story Train', 27), ('Snake Planet', 15), ('Anatomy Park', 11), ('Nuptia 4', 11), ('Planet Squanch', 11), ('Narnia Dimension', 11)]"
      ]
     },
     "execution_count": 322,
     "metadata": {},
     "output_type": "execute_result"
    }
   ],
   "source": [
    "sorted(dict_population.items(), key=lambda x: x[1], reverse=True)[0:10] "
   ]
  },
  {
   "cell_type": "markdown",
   "id": "4758413c",
   "metadata": {},
   "source": [
    "### Get all the Location names starting with a specific letter chosen"
   ]
  },
  {
   "cell_type": "code",
   "execution_count": 327,
   "id": "666454e1",
   "metadata": {},
   "outputs": [],
   "source": [
    "import re\n",
    "def get_locations_starting_with_letter(letter):\n",
    "    lst_locations = big_dict['locations']['results']\n",
    "    lst_names = []\n",
    "    for loc in lst_locations:\n",
    "        match = re.search(r'^'+letter, loc['name'])\n",
    "        if match:\n",
    "            print(loc['name'])"
   ]
  },
  {
   "cell_type": "code",
   "execution_count": 328,
   "id": "bd2156b8",
   "metadata": {},
   "outputs": [
    {
     "name": "stdout",
     "output_type": "stream",
     "text": [
      "Nuptia 4\n",
      "New Improved Galactic Federation Quarters\n",
      "Non-Diegetic Alternative Reality\n",
      "Near-Duplicate Reality\n",
      "NX-5 Planet Remover\n",
      "Narnia Dimension\n",
      "Normal Size Bug Dimension\n"
     ]
    }
   ],
   "source": [
    "get_locations_starting_with_letter('N')"
   ]
  },
  {
   "cell_type": "markdown",
   "id": "47f4377a",
   "metadata": {},
   "source": [
    "### How many genders and how many characters for each gender are there? "
   ]
  },
  {
   "cell_type": "code",
   "execution_count": 330,
   "id": "b419f64f",
   "metadata": {},
   "outputs": [],
   "source": [
    "lst_characters = big_dict['characters']['results']"
   ]
  },
  {
   "cell_type": "code",
   "execution_count": 333,
   "id": "df327261",
   "metadata": {},
   "outputs": [
    {
     "data": {
      "text/plain": [
       "Counter({'Male': 610, 'Female': 148, 'unknown': 49, 'Genderless': 19})"
      ]
     },
     "execution_count": 333,
     "metadata": {},
     "output_type": "execute_result"
    }
   ],
   "source": [
    "Counter([char['gender'] for char in lst_characters]) # what skewed representation!"
   ]
  },
  {
   "cell_type": "markdown",
   "id": "14344fcf",
   "metadata": {},
   "source": [
    "### How is the gender distribution for each episode? "
   ]
  },
  {
   "cell_type": "code",
   "execution_count": 334,
   "id": "b7cb24d6",
   "metadata": {},
   "outputs": [],
   "source": [
    "lst_episodes = big_dict['episodes']['results']"
   ]
  },
  {
   "cell_type": "code",
   "execution_count": 346,
   "id": "39e64e9d",
   "metadata": {},
   "outputs": [],
   "source": [
    "dict_genders_in_episodes = {}\n",
    "for epi in lst_episodes:\n",
    "    lst_gender = []\n",
    "    for char in epi['characters']:\n",
    "        match = re.search(r'\\d+', char)\n",
    "        char_index = int(match[0]) - 1\n",
    "        lst_gender.append(lst_characters[char_index]['gender'])\n",
    "    \n",
    "    dict_genders_in_episodes[epi['episode']] = Counter(lst_gender)   \n",
    "        "
   ]
  },
  {
   "cell_type": "code",
   "execution_count": 348,
   "id": "5eccd9b0",
   "metadata": {},
   "outputs": [],
   "source": [
    "dfg = pd.DataFrame(dict_genders_in_episodes)"
   ]
  },
  {
   "cell_type": "code",
   "execution_count": 354,
   "id": "3dc33d78",
   "metadata": {},
   "outputs": [
    {
     "data": {
      "text/plain": [
       "<AxesSubplot:>"
      ]
     },
     "execution_count": 354,
     "metadata": {},
     "output_type": "execute_result"
    },
    {
     "data": {
      "image/png": "[encoded data removed]",
      "text/plain": [
       "<Figure size 640x480 with 1 Axes>"
      ]
     },
     "metadata": {},
     "output_type": "display_data"
    }
   ],
   "source": [
    "dfgt = dfg.T\n",
    "dfgt.plot()"
   ]
  },
  {
   "cell_type": "code",
   "execution_count": 357,
   "id": "ff10259e",
   "metadata": {},
   "outputs": [
    {
     "data": {
      "text/html": [
       "<div>\n",
       "<style scoped>\n",
       "    .dataframe tbody tr th:only-of-type {\n",
       "        vertical-align: middle;\n",
       "    }\n",
       "\n",
       "    .dataframe tbody tr th {\n",
       "        vertical-align: top;\n",
       "    }\n",
       "\n",
       "    .dataframe thead th {\n",
       "        text-align: right;\n",
       "    }\n",
       "</style>\n",
       "<table border=\"1\" class=\"dataframe\">\n",
       "  <thead>\n",
       "    <tr style=\"text-align: right;\">\n",
       "      <th></th>\n",
       "      <th>Male</th>\n",
       "      <th>unknown</th>\n",
       "      <th>Female</th>\n",
       "      <th>Genderless</th>\n",
       "    </tr>\n",
       "  </thead>\n",
       "  <tbody>\n",
       "    <tr>\n",
       "      <th>count</th>\n",
       "      <td>51.000000</td>\n",
       "      <td>26.000000</td>\n",
       "      <td>51.000000</td>\n",
       "      <td>15.000000</td>\n",
       "    </tr>\n",
       "    <tr>\n",
       "      <th>mean</th>\n",
       "      <td>17.313725</td>\n",
       "      <td>2.692308</td>\n",
       "      <td>5.705882</td>\n",
       "      <td>1.466667</td>\n",
       "    </tr>\n",
       "    <tr>\n",
       "      <th>std</th>\n",
       "      <td>11.502157</td>\n",
       "      <td>2.222957</td>\n",
       "      <td>2.508339</td>\n",
       "      <td>0.743223</td>\n",
       "    </tr>\n",
       "    <tr>\n",
       "      <th>min</th>\n",
       "      <td>4.000000</td>\n",
       "      <td>1.000000</td>\n",
       "      <td>2.000000</td>\n",
       "      <td>1.000000</td>\n",
       "    </tr>\n",
       "    <tr>\n",
       "      <th>25%</th>\n",
       "      <td>10.500000</td>\n",
       "      <td>1.000000</td>\n",
       "      <td>4.000000</td>\n",
       "      <td>1.000000</td>\n",
       "    </tr>\n",
       "    <tr>\n",
       "      <th>50%</th>\n",
       "      <td>14.000000</td>\n",
       "      <td>2.000000</td>\n",
       "      <td>5.000000</td>\n",
       "      <td>1.000000</td>\n",
       "    </tr>\n",
       "    <tr>\n",
       "      <th>75%</th>\n",
       "      <td>18.500000</td>\n",
       "      <td>4.000000</td>\n",
       "      <td>7.000000</td>\n",
       "      <td>2.000000</td>\n",
       "    </tr>\n",
       "    <tr>\n",
       "      <th>max</th>\n",
       "      <td>63.000000</td>\n",
       "      <td>9.000000</td>\n",
       "      <td>13.000000</td>\n",
       "      <td>3.000000</td>\n",
       "    </tr>\n",
       "  </tbody>\n",
       "</table>\n",
       "</div>"
      ],
      "text/plain": [
       "            Male    unknown     Female  Genderless\n",
       "count  51.000000  26.000000  51.000000   15.000000\n",
       "mean   17.313725   2.692308   5.705882    1.466667\n",
       "std    11.502157   2.222957   2.508339    0.743223\n",
       "min     4.000000   1.000000   2.000000    1.000000\n",
       "25%    10.500000   1.000000   4.000000    1.000000\n",
       "50%    14.000000   2.000000   5.000000    1.000000\n",
       "75%    18.500000   4.000000   7.000000    2.000000\n",
       "max    63.000000   9.000000  13.000000    3.000000"
      ]
     },
     "execution_count": 357,
     "metadata": {},
     "output_type": "execute_result"
    }
   ],
   "source": [
    "dfgt.describe()"
   ]
  },
  {
   "cell_type": "code",
   "execution_count": 358,
   "id": "c46c2228",
   "metadata": {},
   "outputs": [
    {
     "data": {
      "text/html": [
       "<div>\n",
       "<style scoped>\n",
       "    .dataframe tbody tr th:only-of-type {\n",
       "        vertical-align: middle;\n",
       "    }\n",
       "\n",
       "    .dataframe tbody tr th {\n",
       "        vertical-align: top;\n",
       "    }\n",
       "\n",
       "    .dataframe thead th {\n",
       "        text-align: right;\n",
       "    }\n",
       "</style>\n",
       "<table border=\"1\" class=\"dataframe\">\n",
       "  <thead>\n",
       "    <tr style=\"text-align: right;\">\n",
       "      <th></th>\n",
       "      <th>Male</th>\n",
       "      <th>unknown</th>\n",
       "      <th>Female</th>\n",
       "      <th>Genderless</th>\n",
       "    </tr>\n",
       "  </thead>\n",
       "  <tbody>\n",
       "    <tr>\n",
       "      <th>Male</th>\n",
       "      <td>1.000000</td>\n",
       "      <td>0.185291</td>\n",
       "      <td>0.201520</td>\n",
       "      <td>0.361951</td>\n",
       "    </tr>\n",
       "    <tr>\n",
       "      <th>unknown</th>\n",
       "      <td>0.185291</td>\n",
       "      <td>1.000000</td>\n",
       "      <td>0.027530</td>\n",
       "      <td>0.190941</td>\n",
       "    </tr>\n",
       "    <tr>\n",
       "      <th>Female</th>\n",
       "      <td>0.201520</td>\n",
       "      <td>0.027530</td>\n",
       "      <td>1.000000</td>\n",
       "      <td>0.328109</td>\n",
       "    </tr>\n",
       "    <tr>\n",
       "      <th>Genderless</th>\n",
       "      <td>0.361951</td>\n",
       "      <td>0.190941</td>\n",
       "      <td>0.328109</td>\n",
       "      <td>1.000000</td>\n",
       "    </tr>\n",
       "  </tbody>\n",
       "</table>\n",
       "</div>"
      ],
      "text/plain": [
       "                Male   unknown    Female  Genderless\n",
       "Male        1.000000  0.185291  0.201520    0.361951\n",
       "unknown     0.185291  1.000000  0.027530    0.190941\n",
       "Female      0.201520  0.027530  1.000000    0.328109\n",
       "Genderless  0.361951  0.190941  0.328109    1.000000"
      ]
     },
     "execution_count": 358,
     "metadata": {},
     "output_type": "execute_result"
    }
   ],
   "source": [
    "dfgt.corr()"
   ]
  },
  {
   "cell_type": "code",
   "execution_count": null,
   "id": "6f7c1e47",
   "metadata": {},
   "outputs": [],
   "source": []
  }
 ],
 "metadata": {
  "kernelspec": {
   "display_name": "Python 3",
   "language": "python",
   "name": "python3"
  },
  "language_info": {
   "codemirror_mode": {
    "name": "ipython",
    "version": 3
   },
   "file_extension": ".py",
   "mimetype": "text/x-python",
   "name": "python",
   "nbconvert_exporter": "python",
   "pygments_lexer": "ipython3",
   "version": "3.9.6 (default, Oct 18 2022, 12:41:40) \n[Clang 14.0.0 (clang-1400.0.29.202)]"
  },
  "vscode": {
   "interpreter": {
    "hash": "31f2aee4e71d21fbe5cf8b01ff0e069b9275f58929596ceb00d14d90e3e16cd6"
   }
  }
 },
 "nbformat": 4,
 "nbformat_minor": 5
}
